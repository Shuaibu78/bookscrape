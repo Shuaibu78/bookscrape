{
 "cells": [
  {
   "cell_type": "code",
   "execution_count": 21,
   "metadata": {},
   "outputs": [
    {
     "name": "stdout",
     "output_type": "stream",
     "text": [
      "['Three', 'One', 'One', 'Four', 'Five', 'One', 'Four', 'Three', 'Four', 'One', 'Two', 'Four', 'Five', 'Five', 'Five', 'Three', 'One', 'One', 'Two', 'Two']\n",
      "['Three', 'One', 'One', 'Four', 'Five', 'One', 'Four', 'Three', 'Four', 'One', 'Two', 'Four', 'Five', 'Five', 'Five', 'Three', 'One', 'One', 'Two', 'Two', 'One', 'Two', 'Three', 'Five', 'Five', 'Three', 'Three', 'Three', 'Five', 'Four', 'Five', 'Three', 'Five', 'One', 'Five', 'Three', 'Two', 'One', 'Four', 'Two']\n"
     ]
    }
   ],
   "source": [
    "import requests\n",
    "from bs4 import BeautifulSoup as bs\n",
    "import pandas as pd\n",
    "\n",
    "pages = []\n",
    "prices = []\n",
    "stars = []\n",
    "titles = []\n",
    "urls = []\n",
    "\n",
    "pages_to_scrape =2\n",
    "for i in range(1,pages_to_scrape+1):\n",
    "    url = ('http://books.toscrape.com/catalogue/page-{}.html').format(i)\n",
    "    pages.append(url)\n",
    "for item in pages:\n",
    "    page = requests.get(item)\n",
    "    soup = bs(page.text, \"html.parser\")\n",
    "    for i in soup.find_all(\"h3\"):\n",
    "        tit1 = i.get_text()\n",
    "        titles.append(tit1)\n",
    "    for j in soup.find_all(\"p\", class_=\"price_color\"):\n",
    "        price = j.get_text()\n",
    "        prices.append(price)\n",
    "    for k in soup.find_all(\"p\", class_=\"star-rating\"):\n",
    "        for t,v in k.attrs.items():\n",
    "            star = v[1]\n",
    "            stars.append(star)\n",
    "    print(stars)\n",
    "\n"
   ]
  },
  {
   "cell_type": "code",
   "execution_count": null,
   "metadata": {},
   "outputs": [],
   "source": []
  },
  {
   "cell_type": "code",
   "execution_count": 17,
   "metadata": {},
   "outputs": [
    {
     "data": {
      "text/plain": [
       "{'Title': [], 'Prices': []}"
      ]
     },
     "execution_count": 17,
     "metadata": {},
     "output_type": "execute_result"
    }
   ],
   "source": [
    "data={\"Title\" : titles, \"Prices\" : prices, \"Stars\" : stars}\n",
    "data"
   ]
  },
  {
   "cell_type": "code",
   "execution_count": null,
   "metadata": {},
   "outputs": [],
   "source": []
  }
 ],
 "metadata": {
  "kernelspec": {
   "display_name": "Python 3",
   "language": "python",
   "name": "python3"
  },
  "language_info": {
   "codemirror_mode": {
    "name": "ipython",
    "version": 3
   },
   "file_extension": ".py",
   "mimetype": "text/x-python",
   "name": "python",
   "nbconvert_exporter": "python",
   "pygments_lexer": "ipython3",
   "version": "3.8.1"
  }
 },
 "nbformat": 4,
 "nbformat_minor": 4
}
